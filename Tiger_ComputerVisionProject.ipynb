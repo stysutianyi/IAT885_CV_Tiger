{
  "cells": [
    {
      "cell_type": "markdown",
      "metadata": {},
      "source": [
        "### Make sure to change path if you want to run in your local machine\n"
      ]
    },
    {
      "cell_type": "code",
      "execution_count": 4,
      "metadata": {
        "colab": {
          "base_uri": "https://localhost:8080/"
        },
        "id": "82dOkEI2B2EJ",
        "outputId": "1427a890-4fc0-41f7-9b29-24245b51924e"
      },
      "outputs": [
        {
          "name": "stdout",
          "output_type": "stream",
          "text": [
            "Drive already mounted at /content/drive; to attempt to forcibly remount, call drive.mount(\"/content/drive\", force_remount=True).\n"
          ]
        }
      ],
      "source": [
        "from google.colab import drive\n",
        "\n",
        "drive.mount(\"/content/drive\")"
      ]
    },
    {
      "cell_type": "code",
      "execution_count": 5,
      "metadata": {
        "colab": {
          "base_uri": "https://localhost:8080/"
        },
        "id": "olv6rDY488vn",
        "outputId": "0aede53a-4e7e-4738-d2af-f3e1805b1b35"
      },
      "outputs": [
        {
          "name": "stdout",
          "output_type": "stream",
          "text": [
            "/content/drive/.shortcut-targets-by-id/17b2KT8bP8SPxGp7QXOXdfZWjsrxHV19h/CV\n",
            " Classification_Data  'Copy of ComputerVisionProject.ipynb'   Tiger_ComputerVisionProject.ipynb\n"
          ]
        }
      ],
      "source": [
        "%cd \"/content/drive/MyDrive/CV\"\n",
        "!ls"
      ]
    },
    {
      "cell_type": "markdown",
      "metadata": {
        "id": "FwuL7tp_c59K"
      },
      "source": [
        "## Training YOLO\n"
      ]
    },
    {
      "cell_type": "code",
      "execution_count": 6,
      "metadata": {
        "colab": {
          "base_uri": "https://localhost:8080/"
        },
        "id": "VFjZ0ujPrnes",
        "outputId": "5df31397-0cde-49ca-dea9-3e8bc44fbdf6"
      },
      "outputs": [
        {
          "name": "stdout",
          "output_type": "stream",
          "text": [
            "Ultralytics YOLOv8.1.27 🚀 Python-3.10.12 torch-2.1.0+cu121 CUDA:0 (Tesla T4, 15102MiB)\n",
            "Setup complete ✅ (2 CPUs, 12.7 GB RAM, 26.4/78.2 GB disk)\n"
          ]
        }
      ],
      "source": [
        "%pip install ultralytics\n",
        "import ultralytics\n",
        "ultralytics.checks()"
      ]
    },
    {
      "cell_type": "code",
      "execution_count": 7,
      "metadata": {
        "id": "kGO4mlYbrrKY"
      },
      "outputs": [],
      "source": [
        "from ultralytics import YOLO"
      ]
    },
    {
      "cell_type": "code",
      "execution_count": 8,
      "metadata": {
        "colab": {
          "base_uri": "https://localhost:8080/"
        },
        "id": "VNgd8sDZHnjT",
        "outputId": "a8f9a67c-59e4-44ed-c87a-3a08aa4ca970"
      },
      "outputs": [
        {
          "name": "stdout",
          "output_type": "stream",
          "text": [
            "Downloading https://github.com/ultralytics/assets/releases/download/v8.1.0/yolov8n-cls.pt to 'yolov8n-cls.pt'...\n"
          ]
        },
        {
          "name": "stderr",
          "output_type": "stream",
          "text": [
            "100%|██████████| 5.30M/5.30M [00:00<00:00, 105MB/s]\n"
          ]
        },
        {
          "name": "stdout",
          "output_type": "stream",
          "text": [
            "Ultralytics YOLOv8.1.27 🚀 Python-3.10.12 torch-2.1.0+cu121 CUDA:0 (Tesla T4, 15102MiB)\n",
            "\u001b[34m\u001b[1mengine/trainer: \u001b[0mtask=classify, mode=train, model=yolov8n-cls.pt, data=/content/drive/MyDrive/CV/Classification_Data, epochs=60, time=None, patience=20, batch=16, imgsz=640, save=True, save_period=-1, cache=False, device=None, workers=8, project=None, name=train, exist_ok=False, pretrained=True, optimizer=auto, verbose=True, seed=0, deterministic=True, single_cls=False, rect=False, cos_lr=True, close_mosaic=10, resume=False, amp=True, fraction=1.0, profile=False, freeze=None, multi_scale=False, overlap_mask=True, mask_ratio=4, dropout=0.0, val=True, split=val, save_json=False, save_hybrid=False, conf=None, iou=0.7, max_det=300, half=False, dnn=False, plots=True, source=None, vid_stride=1, stream_buffer=False, visualize=False, augment=False, agnostic_nms=False, classes=None, retina_masks=False, embed=None, show=False, save_frames=False, save_txt=False, save_conf=False, save_crop=False, show_labels=True, show_conf=True, show_boxes=True, line_width=None, format=torchscript, keras=False, optimize=False, int8=False, dynamic=False, simplify=False, opset=None, workspace=4, nms=False, lr0=0.001, lrf=0.01, momentum=0.937, weight_decay=0.0005, warmup_epochs=3.0, warmup_momentum=0.8, warmup_bias_lr=0.1, box=7.5, cls=0.5, dfl=1.5, pose=12.0, kobj=1.0, label_smoothing=0.0, nbs=64, hsv_h=0.015, hsv_s=0.7, hsv_v=0.4, degrees=0.0, translate=0.1, scale=0.5, shear=0.0, perspective=0.0, flipud=0.0, fliplr=0.5, mosaic=1.0, mixup=0.0, copy_paste=0.0, auto_augment=randaugment, erasing=0.4, crop_fraction=1.0, cfg=None, tracker=botsort.yaml, save_dir=runs/classify/train\n",
            "\u001b[34m\u001b[1mtrain:\u001b[0m /content/drive/.shortcut-targets-by-id/17b2KT8bP8SPxGp7QXOXdfZWjsrxHV19h/CV/Classification_Data/train... found 286 images in 5 classes ✅ \n",
            "\u001b[34m\u001b[1mval:\u001b[0m None...\n",
            "\u001b[34m\u001b[1mtest:\u001b[0m /content/drive/.shortcut-targets-by-id/17b2KT8bP8SPxGp7QXOXdfZWjsrxHV19h/CV/Classification_Data/test... found 41 images in 5 classes ✅ \n",
            "Overriding model.yaml nc=1000 with nc=5\n",
            "\n",
            "                   from  n    params  module                                       arguments                     \n",
            "  0                  -1  1       464  ultralytics.nn.modules.conv.Conv             [3, 16, 3, 2]                 \n",
            "  1                  -1  1      4672  ultralytics.nn.modules.conv.Conv             [16, 32, 3, 2]                \n",
            "  2                  -1  1      7360  ultralytics.nn.modules.block.C2f             [32, 32, 1, True]             \n",
            "  3                  -1  1     18560  ultralytics.nn.modules.conv.Conv             [32, 64, 3, 2]                \n",
            "  4                  -1  2     49664  ultralytics.nn.modules.block.C2f             [64, 64, 2, True]             \n",
            "  5                  -1  1     73984  ultralytics.nn.modules.conv.Conv             [64, 128, 3, 2]               \n",
            "  6                  -1  2    197632  ultralytics.nn.modules.block.C2f             [128, 128, 2, True]           \n",
            "  7                  -1  1    295424  ultralytics.nn.modules.conv.Conv             [128, 256, 3, 2]              \n",
            "  8                  -1  1    460288  ultralytics.nn.modules.block.C2f             [256, 256, 1, True]           \n",
            "  9                  -1  1    336645  ultralytics.nn.modules.head.Classify         [256, 5]                      \n",
            "YOLOv8n-cls summary: 99 layers, 1444693 parameters, 1444693 gradients, 3.4 GFLOPs\n",
            "Transferred 156/158 items from pretrained weights\n",
            "\u001b[34m\u001b[1mTensorBoard: \u001b[0mStart with 'tensorboard --logdir runs/classify/train', view at http://localhost:6006/\n",
            "\u001b[34m\u001b[1mAMP: \u001b[0mrunning Automatic Mixed Precision (AMP) checks with YOLOv8n...\n",
            "Downloading https://github.com/ultralytics/assets/releases/download/v8.1.0/yolov8n.pt to 'yolov8n.pt'...\n"
          ]
        },
        {
          "name": "stderr",
          "output_type": "stream",
          "text": [
            "100%|██████████| 6.23M/6.23M [00:00<00:00, 104MB/s]\n"
          ]
        },
        {
          "name": "stdout",
          "output_type": "stream",
          "text": [
            "\u001b[34m\u001b[1mAMP: \u001b[0mchecks passed ✅\n"
          ]
        },
        {
          "name": "stderr",
          "output_type": "stream",
          "text": [
            "\u001b[34m\u001b[1mtrain: \u001b[0mScanning /content/drive/.shortcut-targets-by-id/17b2KT8bP8SPxGp7QXOXdfZWjsrxHV19h/CV/Classification_Data/train... 286 images, 0 corrupt: 100%|██████████| 286/286 [00:36<00:00,  7.87it/s]\n"
          ]
        },
        {
          "name": "stdout",
          "output_type": "stream",
          "text": [
            "\u001b[34m\u001b[1mtrain: \u001b[0mNew cache created: /content/drive/.shortcut-targets-by-id/17b2KT8bP8SPxGp7QXOXdfZWjsrxHV19h/CV/Classification_Data/train.cache\n"
          ]
        },
        {
          "name": "stderr",
          "output_type": "stream",
          "text": [
            "\u001b[34m\u001b[1mval: \u001b[0mScanning /content/drive/.shortcut-targets-by-id/17b2KT8bP8SPxGp7QXOXdfZWjsrxHV19h/CV/Classification_Data/test... 41 images, 0 corrupt: 100%|██████████| 41/41 [00:13<00:00,  2.96it/s]"
          ]
        },
        {
          "name": "stdout",
          "output_type": "stream",
          "text": [
            "\u001b[34m\u001b[1mval: \u001b[0mNew cache created: /content/drive/.shortcut-targets-by-id/17b2KT8bP8SPxGp7QXOXdfZWjsrxHV19h/CV/Classification_Data/test.cache\n"
          ]
        },
        {
          "name": "stderr",
          "output_type": "stream",
          "text": [
            "\n"
          ]
        },
        {
          "name": "stdout",
          "output_type": "stream",
          "text": [
            "\u001b[34m\u001b[1moptimizer:\u001b[0m 'optimizer=auto' found, ignoring 'lr0=0.001' and 'momentum=0.937' and determining best 'optimizer', 'lr0' and 'momentum' automatically... \n",
            "\u001b[34m\u001b[1moptimizer:\u001b[0m AdamW(lr=0.000714, momentum=0.9) with parameter groups 26 weight(decay=0.0), 27 weight(decay=0.0005), 27 bias(decay=0.0)\n",
            "\u001b[34m\u001b[1mTensorBoard: \u001b[0mmodel graph visualization added ✅\n",
            "Image sizes 640 train, 640 val\n",
            "Using 2 dataloader workers\n",
            "Logging results to \u001b[1mruns/classify/train\u001b[0m\n",
            "Starting training for 60 epochs...\n",
            "\n",
            "      Epoch    GPU_mem       loss  Instances       Size\n"
          ]
        },
        {
          "name": "stderr",
          "output_type": "stream",
          "text": [
            "       1/60      1.57G      1.467         16        640:  28%|██▊       | 5/18 [00:02<00:04,  2.88it/s]"
          ]
        },
        {
          "name": "stdout",
          "output_type": "stream",
          "text": [
            "Downloading https://ultralytics.com/assets/Arial.ttf to '/root/.config/Ultralytics/Arial.ttf'...\n"
          ]
        },
        {
          "name": "stderr",
          "output_type": "stream",
          "text": [
            "       1/60      1.78G      1.463         16        640:  39%|███▉      | 7/18 [00:03<00:04,  2.26it/s]\n",
            "100%|██████████| 755k/755k [00:00<00:00, 22.6MB/s]\n",
            "       1/60      1.78G      1.388         14        640: 100%|██████████| 18/18 [00:12<00:00,  1.46it/s]\n",
            "               classes   top1_acc   top5_acc: 100%|██████████| 2/2 [00:01<00:00,  1.53it/s]"
          ]
        },
        {
          "name": "stdout",
          "output_type": "stream",
          "text": [
            "                   all      0.561          1\n"
          ]
        },
        {
          "name": "stderr",
          "output_type": "stream",
          "text": [
            "\n"
          ]
        },
        {
          "name": "stdout",
          "output_type": "stream",
          "text": [
            "\n",
            "      Epoch    GPU_mem       loss  Instances       Size\n"
          ]
        },
        {
          "name": "stderr",
          "output_type": "stream",
          "text": [
            "       2/60      1.41G      1.108         14        640: 100%|██████████| 18/18 [00:08<00:00,  2.21it/s]\n",
            "               classes   top1_acc   top5_acc: 100%|██████████| 2/2 [00:00<00:00, 13.83it/s]"
          ]
        },
        {
          "name": "stdout",
          "output_type": "stream",
          "text": [
            "                   all      0.561          1\n"
          ]
        },
        {
          "name": "stderr",
          "output_type": "stream",
          "text": [
            "\n"
          ]
        },
        {
          "name": "stdout",
          "output_type": "stream",
          "text": [
            "\n",
            "      Epoch    GPU_mem       loss  Instances       Size\n"
          ]
        },
        {
          "name": "stderr",
          "output_type": "stream",
          "text": [
            "       3/60      1.41G      1.034         14        640: 100%|██████████| 18/18 [00:11<00:00,  1.58it/s]\n",
            "               classes   top1_acc   top5_acc: 100%|██████████| 2/2 [00:00<00:00, 21.61it/s]"
          ]
        },
        {
          "name": "stdout",
          "output_type": "stream",
          "text": [
            "                   all      0.561          1\n"
          ]
        },
        {
          "name": "stderr",
          "output_type": "stream",
          "text": [
            "\n"
          ]
        },
        {
          "name": "stdout",
          "output_type": "stream",
          "text": [
            "\n",
            "      Epoch    GPU_mem       loss  Instances       Size\n"
          ]
        },
        {
          "name": "stderr",
          "output_type": "stream",
          "text": [
            "       4/60      1.42G     0.9412         14        640: 100%|██████████| 18/18 [00:10<00:00,  1.66it/s]\n",
            "               classes   top1_acc   top5_acc: 100%|██████████| 2/2 [00:00<00:00, 20.03it/s]"
          ]
        },
        {
          "name": "stdout",
          "output_type": "stream",
          "text": [
            "                   all      0.561          1\n"
          ]
        },
        {
          "name": "stderr",
          "output_type": "stream",
          "text": [
            "\n"
          ]
        },
        {
          "name": "stdout",
          "output_type": "stream",
          "text": [
            "\n",
            "      Epoch    GPU_mem       loss  Instances       Size\n"
          ]
        },
        {
          "name": "stderr",
          "output_type": "stream",
          "text": [
            "       5/60      1.42G     0.8839         14        640: 100%|██████████| 18/18 [00:10<00:00,  1.64it/s]\n",
            "               classes   top1_acc   top5_acc: 100%|██████████| 2/2 [00:00<00:00, 23.92it/s]"
          ]
        },
        {
          "name": "stdout",
          "output_type": "stream",
          "text": [
            "                   all      0.561          1\n"
          ]
        },
        {
          "name": "stderr",
          "output_type": "stream",
          "text": [
            "\n"
          ]
        },
        {
          "name": "stdout",
          "output_type": "stream",
          "text": [
            "\n",
            "      Epoch    GPU_mem       loss  Instances       Size\n"
          ]
        },
        {
          "name": "stderr",
          "output_type": "stream",
          "text": [
            "       6/60      1.42G     0.8128         14        640: 100%|██████████| 18/18 [00:10<00:00,  1.67it/s]\n",
            "               classes   top1_acc   top5_acc: 100%|██████████| 2/2 [00:00<00:00, 16.98it/s]"
          ]
        },
        {
          "name": "stdout",
          "output_type": "stream",
          "text": [
            "                   all      0.561          1\n"
          ]
        },
        {
          "name": "stderr",
          "output_type": "stream",
          "text": [
            "\n"
          ]
        },
        {
          "name": "stdout",
          "output_type": "stream",
          "text": [
            "\n",
            "      Epoch    GPU_mem       loss  Instances       Size\n"
          ]
        },
        {
          "name": "stderr",
          "output_type": "stream",
          "text": [
            "       7/60      1.42G     0.7565         14        640: 100%|██████████| 18/18 [00:10<00:00,  1.76it/s]\n",
            "               classes   top1_acc   top5_acc: 100%|██████████| 2/2 [00:00<00:00, 13.48it/s]"
          ]
        },
        {
          "name": "stdout",
          "output_type": "stream",
          "text": [
            "                   all      0.634          1\n"
          ]
        },
        {
          "name": "stderr",
          "output_type": "stream",
          "text": [
            "\n"
          ]
        },
        {
          "name": "stdout",
          "output_type": "stream",
          "text": [
            "\n",
            "      Epoch    GPU_mem       loss  Instances       Size\n"
          ]
        },
        {
          "name": "stderr",
          "output_type": "stream",
          "text": [
            "       8/60      1.42G     0.7122         14        640: 100%|██████████| 18/18 [00:09<00:00,  1.93it/s]\n",
            "               classes   top1_acc   top5_acc: 100%|██████████| 2/2 [00:00<00:00, 15.64it/s]"
          ]
        },
        {
          "name": "stdout",
          "output_type": "stream",
          "text": [
            "                   all      0.561          1\n"
          ]
        },
        {
          "name": "stderr",
          "output_type": "stream",
          "text": [
            "\n"
          ]
        },
        {
          "name": "stdout",
          "output_type": "stream",
          "text": [
            "\n",
            "      Epoch    GPU_mem       loss  Instances       Size\n"
          ]
        },
        {
          "name": "stderr",
          "output_type": "stream",
          "text": [
            "       9/60      1.42G     0.6034         14        640: 100%|██████████| 18/18 [00:10<00:00,  1.75it/s]\n",
            "               classes   top1_acc   top5_acc: 100%|██████████| 2/2 [00:00<00:00, 20.08it/s]\n"
          ]
        },
        {
          "name": "stdout",
          "output_type": "stream",
          "text": [
            "                   all       0.61          1\n",
            "\n",
            "      Epoch    GPU_mem       loss  Instances       Size\n"
          ]
        },
        {
          "name": "stderr",
          "output_type": "stream",
          "text": [
            "      10/60      1.42G     0.5716         14        640: 100%|██████████| 18/18 [00:11<00:00,  1.58it/s]\n",
            "               classes   top1_acc   top5_acc: 100%|██████████| 2/2 [00:00<00:00, 14.72it/s]"
          ]
        },
        {
          "name": "stdout",
          "output_type": "stream",
          "text": [
            "                   all       0.78          1\n"
          ]
        },
        {
          "name": "stderr",
          "output_type": "stream",
          "text": [
            "\n"
          ]
        },
        {
          "name": "stdout",
          "output_type": "stream",
          "text": [
            "\n",
            "      Epoch    GPU_mem       loss  Instances       Size\n"
          ]
        },
        {
          "name": "stderr",
          "output_type": "stream",
          "text": [
            "      11/60      1.42G     0.5126         14        640: 100%|██████████| 18/18 [00:10<00:00,  1.67it/s]\n",
            "               classes   top1_acc   top5_acc: 100%|██████████| 2/2 [00:00<00:00, 25.49it/s]"
          ]
        },
        {
          "name": "stdout",
          "output_type": "stream",
          "text": [
            "                   all      0.732          1\n"
          ]
        },
        {
          "name": "stderr",
          "output_type": "stream",
          "text": [
            "\n"
          ]
        },
        {
          "name": "stdout",
          "output_type": "stream",
          "text": [
            "\n",
            "      Epoch    GPU_mem       loss  Instances       Size\n"
          ]
        },
        {
          "name": "stderr",
          "output_type": "stream",
          "text": [
            "      12/60      1.42G     0.4439         14        640: 100%|██████████| 18/18 [00:10<00:00,  1.64it/s]\n",
            "               classes   top1_acc   top5_acc: 100%|██████████| 2/2 [00:00<00:00, 22.18it/s]"
          ]
        },
        {
          "name": "stdout",
          "output_type": "stream",
          "text": [
            "                   all      0.683          1\n"
          ]
        },
        {
          "name": "stderr",
          "output_type": "stream",
          "text": [
            "\n"
          ]
        },
        {
          "name": "stdout",
          "output_type": "stream",
          "text": [
            "\n",
            "      Epoch    GPU_mem       loss  Instances       Size\n"
          ]
        },
        {
          "name": "stderr",
          "output_type": "stream",
          "text": [
            "      13/60      1.42G     0.3999         14        640: 100%|██████████| 18/18 [00:10<00:00,  1.67it/s]\n",
            "               classes   top1_acc   top5_acc: 100%|██████████| 2/2 [00:00<00:00, 20.32it/s]"
          ]
        },
        {
          "name": "stdout",
          "output_type": "stream",
          "text": [
            "                   all      0.707          1\n"
          ]
        },
        {
          "name": "stderr",
          "output_type": "stream",
          "text": [
            "\n"
          ]
        },
        {
          "name": "stdout",
          "output_type": "stream",
          "text": [
            "\n",
            "      Epoch    GPU_mem       loss  Instances       Size\n"
          ]
        },
        {
          "name": "stderr",
          "output_type": "stream",
          "text": [
            "      14/60      1.42G     0.4086         14        640: 100%|██████████| 18/18 [00:09<00:00,  1.85it/s]\n",
            "               classes   top1_acc   top5_acc: 100%|██████████| 2/2 [00:00<00:00, 16.63it/s]"
          ]
        },
        {
          "name": "stdout",
          "output_type": "stream",
          "text": [
            "                   all      0.707          1\n"
          ]
        },
        {
          "name": "stderr",
          "output_type": "stream",
          "text": [
            "\n"
          ]
        },
        {
          "name": "stdout",
          "output_type": "stream",
          "text": [
            "\n",
            "      Epoch    GPU_mem       loss  Instances       Size\n"
          ]
        },
        {
          "name": "stderr",
          "output_type": "stream",
          "text": [
            "      15/60      1.42G     0.3587         14        640: 100%|██████████| 18/18 [00:10<00:00,  1.79it/s]\n",
            "               classes   top1_acc   top5_acc: 100%|██████████| 2/2 [00:00<00:00, 17.09it/s]"
          ]
        },
        {
          "name": "stdout",
          "output_type": "stream",
          "text": [
            "                   all      0.732          1\n"
          ]
        },
        {
          "name": "stderr",
          "output_type": "stream",
          "text": [
            "\n"
          ]
        },
        {
          "name": "stdout",
          "output_type": "stream",
          "text": [
            "\n",
            "      Epoch    GPU_mem       loss  Instances       Size\n"
          ]
        },
        {
          "name": "stderr",
          "output_type": "stream",
          "text": [
            "      16/60      1.42G     0.3426         14        640: 100%|██████████| 18/18 [00:10<00:00,  1.65it/s]\n",
            "               classes   top1_acc   top5_acc: 100%|██████████| 2/2 [00:00<00:00, 20.10it/s]"
          ]
        },
        {
          "name": "stdout",
          "output_type": "stream",
          "text": [
            "                   all      0.634          1\n"
          ]
        },
        {
          "name": "stderr",
          "output_type": "stream",
          "text": [
            "\n"
          ]
        },
        {
          "name": "stdout",
          "output_type": "stream",
          "text": [
            "\n",
            "      Epoch    GPU_mem       loss  Instances       Size\n"
          ]
        },
        {
          "name": "stderr",
          "output_type": "stream",
          "text": [
            "      17/60      1.42G     0.3679         14        640: 100%|██████████| 18/18 [00:10<00:00,  1.68it/s]\n",
            "               classes   top1_acc   top5_acc: 100%|██████████| 2/2 [00:00<00:00, 16.90it/s]"
          ]
        },
        {
          "name": "stdout",
          "output_type": "stream",
          "text": [
            "                   all      0.707          1\n"
          ]
        },
        {
          "name": "stderr",
          "output_type": "stream",
          "text": [
            "\n"
          ]
        },
        {
          "name": "stdout",
          "output_type": "stream",
          "text": [
            "\n",
            "      Epoch    GPU_mem       loss  Instances       Size\n"
          ]
        },
        {
          "name": "stderr",
          "output_type": "stream",
          "text": [
            "      18/60      1.41G     0.3158         14        640: 100%|██████████| 18/18 [00:10<00:00,  1.78it/s]\n",
            "               classes   top1_acc   top5_acc: 100%|██████████| 2/2 [00:00<00:00, 11.46it/s]"
          ]
        },
        {
          "name": "stdout",
          "output_type": "stream",
          "text": [
            "                   all      0.659          1\n"
          ]
        },
        {
          "name": "stderr",
          "output_type": "stream",
          "text": [
            "\n"
          ]
        },
        {
          "name": "stdout",
          "output_type": "stream",
          "text": [
            "\n",
            "      Epoch    GPU_mem       loss  Instances       Size\n"
          ]
        },
        {
          "name": "stderr",
          "output_type": "stream",
          "text": [
            "      19/60       1.4G     0.3018         14        640: 100%|██████████| 18/18 [00:11<00:00,  1.61it/s]\n",
            "               classes   top1_acc   top5_acc: 100%|██████████| 2/2 [00:00<00:00, 13.93it/s]\n"
          ]
        },
        {
          "name": "stdout",
          "output_type": "stream",
          "text": [
            "                   all       0.78          1\n",
            "\n",
            "      Epoch    GPU_mem       loss  Instances       Size\n"
          ]
        },
        {
          "name": "stderr",
          "output_type": "stream",
          "text": [
            "      20/60       1.4G     0.2612         14        640: 100%|██████████| 18/18 [00:09<00:00,  1.89it/s]\n",
            "               classes   top1_acc   top5_acc: 100%|██████████| 2/2 [00:00<00:00, 14.75it/s]"
          ]
        },
        {
          "name": "stdout",
          "output_type": "stream",
          "text": [
            "                   all      0.659          1\n"
          ]
        },
        {
          "name": "stderr",
          "output_type": "stream",
          "text": [
            "\n"
          ]
        },
        {
          "name": "stdout",
          "output_type": "stream",
          "text": [
            "\n",
            "      Epoch    GPU_mem       loss  Instances       Size\n"
          ]
        },
        {
          "name": "stderr",
          "output_type": "stream",
          "text": [
            "      21/60       1.4G     0.2469         14        640: 100%|██████████| 18/18 [00:10<00:00,  1.73it/s]\n",
            "               classes   top1_acc   top5_acc: 100%|██████████| 2/2 [00:00<00:00, 18.88it/s]"
          ]
        },
        {
          "name": "stdout",
          "output_type": "stream",
          "text": [
            "                   all      0.683          1\n"
          ]
        },
        {
          "name": "stderr",
          "output_type": "stream",
          "text": [
            "\n"
          ]
        },
        {
          "name": "stdout",
          "output_type": "stream",
          "text": [
            "\n",
            "      Epoch    GPU_mem       loss  Instances       Size\n"
          ]
        },
        {
          "name": "stderr",
          "output_type": "stream",
          "text": [
            "      22/60       1.4G     0.2351         14        640: 100%|██████████| 18/18 [00:11<00:00,  1.62it/s]\n",
            "               classes   top1_acc   top5_acc: 100%|██████████| 2/2 [00:00<00:00, 17.42it/s]"
          ]
        },
        {
          "name": "stdout",
          "output_type": "stream",
          "text": [
            "                   all       0.78          1\n"
          ]
        },
        {
          "name": "stderr",
          "output_type": "stream",
          "text": [
            "\n"
          ]
        },
        {
          "name": "stdout",
          "output_type": "stream",
          "text": [
            "\n",
            "      Epoch    GPU_mem       loss  Instances       Size\n"
          ]
        },
        {
          "name": "stderr",
          "output_type": "stream",
          "text": [
            "      23/60       1.4G     0.2067         14        640: 100%|██████████| 18/18 [00:10<00:00,  1.71it/s]\n",
            "               classes   top1_acc   top5_acc: 100%|██████████| 2/2 [00:00<00:00, 17.31it/s]"
          ]
        },
        {
          "name": "stdout",
          "output_type": "stream",
          "text": [
            "                   all      0.732          1\n"
          ]
        },
        {
          "name": "stderr",
          "output_type": "stream",
          "text": [
            "\n"
          ]
        },
        {
          "name": "stdout",
          "output_type": "stream",
          "text": [
            "\n",
            "      Epoch    GPU_mem       loss  Instances       Size\n"
          ]
        },
        {
          "name": "stderr",
          "output_type": "stream",
          "text": [
            "      24/60       1.4G     0.2035         14        640: 100%|██████████| 18/18 [00:11<00:00,  1.63it/s]\n",
            "               classes   top1_acc   top5_acc: 100%|██████████| 2/2 [00:00<00:00, 12.65it/s]"
          ]
        },
        {
          "name": "stdout",
          "output_type": "stream",
          "text": [
            "                   all      0.732          1\n"
          ]
        },
        {
          "name": "stderr",
          "output_type": "stream",
          "text": [
            "\n"
          ]
        },
        {
          "name": "stdout",
          "output_type": "stream",
          "text": [
            "\n",
            "      Epoch    GPU_mem       loss  Instances       Size\n"
          ]
        },
        {
          "name": "stderr",
          "output_type": "stream",
          "text": [
            "      25/60       1.4G     0.1873         14        640: 100%|██████████| 18/18 [00:11<00:00,  1.61it/s]\n",
            "               classes   top1_acc   top5_acc: 100%|██████████| 2/2 [00:00<00:00, 21.74it/s]"
          ]
        },
        {
          "name": "stdout",
          "output_type": "stream",
          "text": [
            "                   all      0.732          1\n"
          ]
        },
        {
          "name": "stderr",
          "output_type": "stream",
          "text": [
            "\n"
          ]
        },
        {
          "name": "stdout",
          "output_type": "stream",
          "text": [
            "\n",
            "      Epoch    GPU_mem       loss  Instances       Size\n"
          ]
        },
        {
          "name": "stderr",
          "output_type": "stream",
          "text": [
            "      26/60       1.4G     0.1825         14        640: 100%|██████████| 18/18 [00:09<00:00,  1.89it/s]\n",
            "               classes   top1_acc   top5_acc: 100%|██████████| 2/2 [00:00<00:00, 16.01it/s]"
          ]
        },
        {
          "name": "stdout",
          "output_type": "stream",
          "text": [
            "                   all       0.78          1\n"
          ]
        },
        {
          "name": "stderr",
          "output_type": "stream",
          "text": [
            "\n"
          ]
        },
        {
          "name": "stdout",
          "output_type": "stream",
          "text": [
            "\n",
            "      Epoch    GPU_mem       loss  Instances       Size\n"
          ]
        },
        {
          "name": "stderr",
          "output_type": "stream",
          "text": [
            "      27/60       1.4G     0.1366         14        640: 100%|██████████| 18/18 [00:09<00:00,  1.81it/s]\n",
            "               classes   top1_acc   top5_acc: 100%|██████████| 2/2 [00:00<00:00, 22.25it/s]"
          ]
        },
        {
          "name": "stdout",
          "output_type": "stream",
          "text": [
            "                   all      0.805          1\n"
          ]
        },
        {
          "name": "stderr",
          "output_type": "stream",
          "text": [
            "\n"
          ]
        },
        {
          "name": "stdout",
          "output_type": "stream",
          "text": [
            "\n",
            "      Epoch    GPU_mem       loss  Instances       Size\n"
          ]
        },
        {
          "name": "stderr",
          "output_type": "stream",
          "text": [
            "      28/60       1.4G     0.1459         14        640: 100%|██████████| 18/18 [00:10<00:00,  1.75it/s]\n",
            "               classes   top1_acc   top5_acc: 100%|██████████| 2/2 [00:00<00:00, 15.13it/s]"
          ]
        },
        {
          "name": "stdout",
          "output_type": "stream",
          "text": [
            "                   all      0.805          1\n"
          ]
        },
        {
          "name": "stderr",
          "output_type": "stream",
          "text": [
            "\n"
          ]
        },
        {
          "name": "stdout",
          "output_type": "stream",
          "text": [
            "\n",
            "      Epoch    GPU_mem       loss  Instances       Size\n"
          ]
        },
        {
          "name": "stderr",
          "output_type": "stream",
          "text": [
            "      29/60       1.4G     0.1274         14        640: 100%|██████████| 18/18 [00:11<00:00,  1.61it/s]\n",
            "               classes   top1_acc   top5_acc: 100%|██████████| 2/2 [00:00<00:00, 17.63it/s]"
          ]
        },
        {
          "name": "stdout",
          "output_type": "stream",
          "text": [
            "                   all      0.829          1\n"
          ]
        },
        {
          "name": "stderr",
          "output_type": "stream",
          "text": [
            "\n"
          ]
        },
        {
          "name": "stdout",
          "output_type": "stream",
          "text": [
            "\n",
            "      Epoch    GPU_mem       loss  Instances       Size\n"
          ]
        },
        {
          "name": "stderr",
          "output_type": "stream",
          "text": [
            "      30/60       1.4G     0.1656         14        640: 100%|██████████| 18/18 [00:10<00:00,  1.68it/s]\n",
            "               classes   top1_acc   top5_acc: 100%|██████████| 2/2 [00:00<00:00, 15.28it/s]"
          ]
        },
        {
          "name": "stdout",
          "output_type": "stream",
          "text": [
            "                   all      0.829          1\n"
          ]
        },
        {
          "name": "stderr",
          "output_type": "stream",
          "text": [
            "\n"
          ]
        },
        {
          "name": "stdout",
          "output_type": "stream",
          "text": [
            "\n",
            "      Epoch    GPU_mem       loss  Instances       Size\n"
          ]
        },
        {
          "name": "stderr",
          "output_type": "stream",
          "text": [
            "      31/60       1.4G      0.139         14        640: 100%|██████████| 18/18 [00:10<00:00,  1.69it/s]\n",
            "               classes   top1_acc   top5_acc: 100%|██████████| 2/2 [00:00<00:00, 17.15it/s]"
          ]
        },
        {
          "name": "stdout",
          "output_type": "stream",
          "text": [
            "                   all       0.78          1\n"
          ]
        },
        {
          "name": "stderr",
          "output_type": "stream",
          "text": [
            "\n"
          ]
        },
        {
          "name": "stdout",
          "output_type": "stream",
          "text": [
            "\n",
            "      Epoch    GPU_mem       loss  Instances       Size\n"
          ]
        },
        {
          "name": "stderr",
          "output_type": "stream",
          "text": [
            "      32/60       1.4G     0.1248         14        640: 100%|██████████| 18/18 [00:09<00:00,  1.81it/s]\n",
            "               classes   top1_acc   top5_acc: 100%|██████████| 2/2 [00:00<00:00, 13.45it/s]\n"
          ]
        },
        {
          "name": "stdout",
          "output_type": "stream",
          "text": [
            "                   all      0.732          1\n",
            "\n",
            "      Epoch    GPU_mem       loss  Instances       Size\n"
          ]
        },
        {
          "name": "stderr",
          "output_type": "stream",
          "text": [
            "      33/60       1.4G     0.1241         14        640: 100%|██████████| 18/18 [00:09<00:00,  1.82it/s]\n",
            "               classes   top1_acc   top5_acc: 100%|██████████| 2/2 [00:00<00:00, 15.00it/s]"
          ]
        },
        {
          "name": "stdout",
          "output_type": "stream",
          "text": [
            "                   all      0.756          1\n"
          ]
        },
        {
          "name": "stderr",
          "output_type": "stream",
          "text": [
            "\n"
          ]
        },
        {
          "name": "stdout",
          "output_type": "stream",
          "text": [
            "\n",
            "      Epoch    GPU_mem       loss  Instances       Size\n"
          ]
        },
        {
          "name": "stderr",
          "output_type": "stream",
          "text": [
            "      34/60       1.4G     0.1233         14        640: 100%|██████████| 18/18 [00:10<00:00,  1.65it/s]\n",
            "               classes   top1_acc   top5_acc: 100%|██████████| 2/2 [00:00<00:00, 23.43it/s]"
          ]
        },
        {
          "name": "stdout",
          "output_type": "stream",
          "text": [
            "                   all       0.78          1\n"
          ]
        },
        {
          "name": "stderr",
          "output_type": "stream",
          "text": [
            "\n"
          ]
        },
        {
          "name": "stdout",
          "output_type": "stream",
          "text": [
            "\n",
            "      Epoch    GPU_mem       loss  Instances       Size\n"
          ]
        },
        {
          "name": "stderr",
          "output_type": "stream",
          "text": [
            "      35/60       1.4G     0.1203         14        640: 100%|██████████| 18/18 [00:10<00:00,  1.65it/s]\n",
            "               classes   top1_acc   top5_acc: 100%|██████████| 2/2 [00:00<00:00, 20.46it/s]"
          ]
        },
        {
          "name": "stdout",
          "output_type": "stream",
          "text": [
            "                   all      0.756          1\n"
          ]
        },
        {
          "name": "stderr",
          "output_type": "stream",
          "text": [
            "\n"
          ]
        },
        {
          "name": "stdout",
          "output_type": "stream",
          "text": [
            "\n",
            "      Epoch    GPU_mem       loss  Instances       Size\n"
          ]
        },
        {
          "name": "stderr",
          "output_type": "stream",
          "text": [
            "      36/60       1.4G    0.07378         14        640: 100%|██████████| 18/18 [00:12<00:00,  1.39it/s]\n",
            "               classes   top1_acc   top5_acc: 100%|██████████| 2/2 [00:00<00:00, 25.04it/s]"
          ]
        },
        {
          "name": "stdout",
          "output_type": "stream",
          "text": [
            "                   all      0.756          1\n"
          ]
        },
        {
          "name": "stderr",
          "output_type": "stream",
          "text": [
            "\n"
          ]
        },
        {
          "name": "stdout",
          "output_type": "stream",
          "text": [
            "\n",
            "      Epoch    GPU_mem       loss  Instances       Size\n"
          ]
        },
        {
          "name": "stderr",
          "output_type": "stream",
          "text": [
            "      37/60       1.4G     0.1083         14        640: 100%|██████████| 18/18 [00:10<00:00,  1.67it/s]\n",
            "               classes   top1_acc   top5_acc: 100%|██████████| 2/2 [00:00<00:00, 18.34it/s]"
          ]
        },
        {
          "name": "stdout",
          "output_type": "stream",
          "text": [
            "                   all       0.78          1\n"
          ]
        },
        {
          "name": "stderr",
          "output_type": "stream",
          "text": [
            "\n"
          ]
        },
        {
          "name": "stdout",
          "output_type": "stream",
          "text": [
            "\n",
            "      Epoch    GPU_mem       loss  Instances       Size\n"
          ]
        },
        {
          "name": "stderr",
          "output_type": "stream",
          "text": [
            "      38/60       1.4G     0.1082         14        640: 100%|██████████| 18/18 [00:09<00:00,  1.97it/s]\n",
            "               classes   top1_acc   top5_acc: 100%|██████████| 2/2 [00:00<00:00, 18.73it/s]"
          ]
        },
        {
          "name": "stdout",
          "output_type": "stream",
          "text": [
            "                   all      0.805          1\n"
          ]
        },
        {
          "name": "stderr",
          "output_type": "stream",
          "text": [
            "\n"
          ]
        },
        {
          "name": "stdout",
          "output_type": "stream",
          "text": [
            "\n",
            "      Epoch    GPU_mem       loss  Instances       Size\n"
          ]
        },
        {
          "name": "stderr",
          "output_type": "stream",
          "text": [
            "      39/60       1.4G    0.08072         14        640: 100%|██████████| 18/18 [00:10<00:00,  1.75it/s]\n",
            "               classes   top1_acc   top5_acc: 100%|██████████| 2/2 [00:00<00:00, 22.24it/s]\n"
          ]
        },
        {
          "name": "stdout",
          "output_type": "stream",
          "text": [
            "                   all      0.805          1\n",
            "\n",
            "      Epoch    GPU_mem       loss  Instances       Size\n"
          ]
        },
        {
          "name": "stderr",
          "output_type": "stream",
          "text": [
            "      40/60       1.4G    0.08888         14        640: 100%|██████████| 18/18 [00:10<00:00,  1.68it/s]\n",
            "               classes   top1_acc   top5_acc: 100%|██████████| 2/2 [00:00<00:00, 28.81it/s]"
          ]
        },
        {
          "name": "stdout",
          "output_type": "stream",
          "text": [
            "                   all      0.805          1\n"
          ]
        },
        {
          "name": "stderr",
          "output_type": "stream",
          "text": [
            "\n"
          ]
        },
        {
          "name": "stdout",
          "output_type": "stream",
          "text": [
            "\n",
            "      Epoch    GPU_mem       loss  Instances       Size\n"
          ]
        },
        {
          "name": "stderr",
          "output_type": "stream",
          "text": [
            "      41/60       1.4G    0.08807         14        640: 100%|██████████| 18/18 [00:10<00:00,  1.65it/s]\n",
            "               classes   top1_acc   top5_acc: 100%|██████████| 2/2 [00:00<00:00, 14.58it/s]"
          ]
        },
        {
          "name": "stdout",
          "output_type": "stream",
          "text": [
            "                   all      0.805          1\n"
          ]
        },
        {
          "name": "stderr",
          "output_type": "stream",
          "text": [
            "\n"
          ]
        },
        {
          "name": "stdout",
          "output_type": "stream",
          "text": [
            "\n",
            "      Epoch    GPU_mem       loss  Instances       Size\n"
          ]
        },
        {
          "name": "stderr",
          "output_type": "stream",
          "text": [
            "      42/60       1.4G     0.1036         14        640: 100%|██████████| 18/18 [00:10<00:00,  1.66it/s]\n",
            "               classes   top1_acc   top5_acc: 100%|██████████| 2/2 [00:00<00:00, 15.89it/s]"
          ]
        },
        {
          "name": "stdout",
          "output_type": "stream",
          "text": [
            "                   all      0.829          1\n"
          ]
        },
        {
          "name": "stderr",
          "output_type": "stream",
          "text": [
            "\n"
          ]
        },
        {
          "name": "stdout",
          "output_type": "stream",
          "text": [
            "\n",
            "      Epoch    GPU_mem       loss  Instances       Size\n"
          ]
        },
        {
          "name": "stderr",
          "output_type": "stream",
          "text": [
            "      43/60       1.4G    0.09129         14        640: 100%|██████████| 18/18 [00:10<00:00,  1.76it/s]\n",
            "               classes   top1_acc   top5_acc: 100%|██████████| 2/2 [00:00<00:00, 22.24it/s]"
          ]
        },
        {
          "name": "stdout",
          "output_type": "stream",
          "text": [
            "                   all      0.805          1\n"
          ]
        },
        {
          "name": "stderr",
          "output_type": "stream",
          "text": [
            "\n"
          ]
        },
        {
          "name": "stdout",
          "output_type": "stream",
          "text": [
            "\n",
            "      Epoch    GPU_mem       loss  Instances       Size\n"
          ]
        },
        {
          "name": "stderr",
          "output_type": "stream",
          "text": [
            "      44/60       1.4G     0.1167         14        640: 100%|██████████| 18/18 [00:09<00:00,  1.95it/s]\n",
            "               classes   top1_acc   top5_acc: 100%|██████████| 2/2 [00:00<00:00, 16.68it/s]"
          ]
        },
        {
          "name": "stdout",
          "output_type": "stream",
          "text": [
            "                   all       0.78          1\n"
          ]
        },
        {
          "name": "stderr",
          "output_type": "stream",
          "text": [
            "\n"
          ]
        },
        {
          "name": "stdout",
          "output_type": "stream",
          "text": [
            "\n",
            "      Epoch    GPU_mem       loss  Instances       Size\n"
          ]
        },
        {
          "name": "stderr",
          "output_type": "stream",
          "text": [
            "      45/60       1.4G    0.06963         14        640: 100%|██████████| 18/18 [00:10<00:00,  1.71it/s]\n",
            "               classes   top1_acc   top5_acc: 100%|██████████| 2/2 [00:00<00:00, 15.97it/s]"
          ]
        },
        {
          "name": "stdout",
          "output_type": "stream",
          "text": [
            "                   all       0.78          1\n"
          ]
        },
        {
          "name": "stderr",
          "output_type": "stream",
          "text": [
            "\n"
          ]
        },
        {
          "name": "stdout",
          "output_type": "stream",
          "text": [
            "\n",
            "      Epoch    GPU_mem       loss  Instances       Size\n"
          ]
        },
        {
          "name": "stderr",
          "output_type": "stream",
          "text": [
            "      46/60       1.4G    0.07006         14        640: 100%|██████████| 18/18 [00:10<00:00,  1.68it/s]\n",
            "               classes   top1_acc   top5_acc: 100%|██████████| 2/2 [00:00<00:00, 16.27it/s]"
          ]
        },
        {
          "name": "stdout",
          "output_type": "stream",
          "text": [
            "                   all      0.829          1\n"
          ]
        },
        {
          "name": "stderr",
          "output_type": "stream",
          "text": [
            "\n"
          ]
        },
        {
          "name": "stdout",
          "output_type": "stream",
          "text": [
            "\n",
            "      Epoch    GPU_mem       loss  Instances       Size\n"
          ]
        },
        {
          "name": "stderr",
          "output_type": "stream",
          "text": [
            "      47/60       1.4G    0.07639         14        640: 100%|██████████| 18/18 [00:10<00:00,  1.68it/s]\n",
            "               classes   top1_acc   top5_acc: 100%|██████████| 2/2 [00:00<00:00, 17.36it/s]"
          ]
        },
        {
          "name": "stdout",
          "output_type": "stream",
          "text": [
            "                   all      0.805          1\n"
          ]
        },
        {
          "name": "stderr",
          "output_type": "stream",
          "text": [
            "\n"
          ]
        },
        {
          "name": "stdout",
          "output_type": "stream",
          "text": [
            "\n",
            "      Epoch    GPU_mem       loss  Instances       Size\n"
          ]
        },
        {
          "name": "stderr",
          "output_type": "stream",
          "text": [
            "      48/60       1.4G    0.07813         14        640: 100%|██████████| 18/18 [00:10<00:00,  1.64it/s]\n",
            "               classes   top1_acc   top5_acc: 100%|██████████| 2/2 [00:00<00:00, 20.06it/s]"
          ]
        },
        {
          "name": "stdout",
          "output_type": "stream",
          "text": [
            "                   all      0.829          1\n"
          ]
        },
        {
          "name": "stderr",
          "output_type": "stream",
          "text": [
            "\n"
          ]
        },
        {
          "name": "stdout",
          "output_type": "stream",
          "text": [
            "\n",
            "      Epoch    GPU_mem       loss  Instances       Size\n"
          ]
        },
        {
          "name": "stderr",
          "output_type": "stream",
          "text": [
            "      49/60       1.4G    0.07923         14        640: 100%|██████████| 18/18 [00:11<00:00,  1.59it/s]\n",
            "               classes   top1_acc   top5_acc: 100%|██████████| 2/2 [00:00<00:00, 20.44it/s]"
          ]
        },
        {
          "name": "stdout",
          "output_type": "stream",
          "text": [
            "                   all      0.805          1\n"
          ]
        },
        {
          "name": "stderr",
          "output_type": "stream",
          "text": [
            "\n"
          ]
        },
        {
          "name": "stdout",
          "output_type": "stream",
          "text": [
            "\n",
            "      Epoch    GPU_mem       loss  Instances       Size\n"
          ]
        },
        {
          "name": "stderr",
          "output_type": "stream",
          "text": [
            "      50/60       1.4G    0.09068         14        640: 100%|██████████| 18/18 [00:09<00:00,  1.82it/s]\n",
            "               classes   top1_acc   top5_acc: 100%|██████████| 2/2 [00:00<00:00, 16.24it/s]"
          ]
        },
        {
          "name": "stdout",
          "output_type": "stream",
          "text": [
            "                   all       0.78          1\n"
          ]
        },
        {
          "name": "stderr",
          "output_type": "stream",
          "text": [
            "\n"
          ]
        },
        {
          "name": "stdout",
          "output_type": "stream",
          "text": [
            "\n",
            "      Epoch    GPU_mem       loss  Instances       Size\n"
          ]
        },
        {
          "name": "stderr",
          "output_type": "stream",
          "text": [
            "      51/60       1.4G     0.0612         14        640: 100%|██████████| 18/18 [00:11<00:00,  1.56it/s]\n",
            "               classes   top1_acc   top5_acc: 100%|██████████| 2/2 [00:00<00:00, 14.65it/s]"
          ]
        },
        {
          "name": "stdout",
          "output_type": "stream",
          "text": [
            "                   all       0.78          1\n"
          ]
        },
        {
          "name": "stderr",
          "output_type": "stream",
          "text": [
            "\n"
          ]
        },
        {
          "name": "stdout",
          "output_type": "stream",
          "text": [
            "\n",
            "      Epoch    GPU_mem       loss  Instances       Size\n"
          ]
        },
        {
          "name": "stderr",
          "output_type": "stream",
          "text": [
            "      52/60       1.4G    0.09326         14        640: 100%|██████████| 18/18 [00:09<00:00,  1.82it/s]\n",
            "               classes   top1_acc   top5_acc: 100%|██████████| 2/2 [00:00<00:00, 13.80it/s]"
          ]
        },
        {
          "name": "stdout",
          "output_type": "stream",
          "text": [
            "                   all       0.78          1\n"
          ]
        },
        {
          "name": "stderr",
          "output_type": "stream",
          "text": [
            "\n"
          ]
        },
        {
          "name": "stdout",
          "output_type": "stream",
          "text": [
            "\n",
            "      Epoch    GPU_mem       loss  Instances       Size\n"
          ]
        },
        {
          "name": "stderr",
          "output_type": "stream",
          "text": [
            "      53/60       1.4G    0.08494         14        640: 100%|██████████| 18/18 [00:12<00:00,  1.44it/s]\n",
            "               classes   top1_acc   top5_acc: 100%|██████████| 2/2 [00:00<00:00, 17.06it/s]"
          ]
        },
        {
          "name": "stdout",
          "output_type": "stream",
          "text": [
            "                   all       0.78          1\n"
          ]
        },
        {
          "name": "stderr",
          "output_type": "stream",
          "text": [
            "\n"
          ]
        },
        {
          "name": "stdout",
          "output_type": "stream",
          "text": [
            "\n",
            "      Epoch    GPU_mem       loss  Instances       Size\n"
          ]
        },
        {
          "name": "stderr",
          "output_type": "stream",
          "text": [
            "      54/60       1.4G    0.06789         14        640: 100%|██████████| 18/18 [00:11<00:00,  1.59it/s]\n",
            "               classes   top1_acc   top5_acc: 100%|██████████| 2/2 [00:00<00:00, 21.25it/s]"
          ]
        },
        {
          "name": "stdout",
          "output_type": "stream",
          "text": [
            "                   all      0.805          1\n"
          ]
        },
        {
          "name": "stderr",
          "output_type": "stream",
          "text": [
            "\n"
          ]
        },
        {
          "name": "stdout",
          "output_type": "stream",
          "text": [
            "\n",
            "      Epoch    GPU_mem       loss  Instances       Size\n"
          ]
        },
        {
          "name": "stderr",
          "output_type": "stream",
          "text": [
            "      55/60       1.4G    0.06267         14        640: 100%|██████████| 18/18 [00:10<00:00,  1.66it/s]\n",
            "               classes   top1_acc   top5_acc: 100%|██████████| 2/2 [00:00<00:00, 21.43it/s]"
          ]
        },
        {
          "name": "stdout",
          "output_type": "stream",
          "text": [
            "                   all       0.78          1\n"
          ]
        },
        {
          "name": "stderr",
          "output_type": "stream",
          "text": [
            "\n"
          ]
        },
        {
          "name": "stdout",
          "output_type": "stream",
          "text": [
            "\n",
            "      Epoch    GPU_mem       loss  Instances       Size\n"
          ]
        },
        {
          "name": "stderr",
          "output_type": "stream",
          "text": [
            "      56/60       1.4G    0.05801         14        640: 100%|██████████| 18/18 [00:11<00:00,  1.62it/s]\n",
            "               classes   top1_acc   top5_acc: 100%|██████████| 2/2 [00:00<00:00, 19.99it/s]"
          ]
        },
        {
          "name": "stdout",
          "output_type": "stream",
          "text": [
            "                   all      0.805          1\n"
          ]
        },
        {
          "name": "stderr",
          "output_type": "stream",
          "text": [
            "\n"
          ]
        },
        {
          "name": "stdout",
          "output_type": "stream",
          "text": [
            "\n",
            "      Epoch    GPU_mem       loss  Instances       Size\n"
          ]
        },
        {
          "name": "stderr",
          "output_type": "stream",
          "text": [
            "      57/60       1.4G    0.08783         14        640: 100%|██████████| 18/18 [00:10<00:00,  1.72it/s]\n",
            "               classes   top1_acc   top5_acc: 100%|██████████| 2/2 [00:00<00:00, 10.18it/s]"
          ]
        },
        {
          "name": "stdout",
          "output_type": "stream",
          "text": [
            "                   all       0.78          1\n"
          ]
        },
        {
          "name": "stderr",
          "output_type": "stream",
          "text": [
            "\n"
          ]
        },
        {
          "name": "stdout",
          "output_type": "stream",
          "text": [
            "\n",
            "      Epoch    GPU_mem       loss  Instances       Size\n"
          ]
        },
        {
          "name": "stderr",
          "output_type": "stream",
          "text": [
            "      58/60       1.4G    0.08383         14        640: 100%|██████████| 18/18 [00:09<00:00,  1.83it/s]\n",
            "               classes   top1_acc   top5_acc: 100%|██████████| 2/2 [00:00<00:00, 16.88it/s]"
          ]
        },
        {
          "name": "stdout",
          "output_type": "stream",
          "text": [
            "                   all      0.805          1\n"
          ]
        },
        {
          "name": "stderr",
          "output_type": "stream",
          "text": [
            "\n"
          ]
        },
        {
          "name": "stdout",
          "output_type": "stream",
          "text": [
            "\n",
            "      Epoch    GPU_mem       loss  Instances       Size\n"
          ]
        },
        {
          "name": "stderr",
          "output_type": "stream",
          "text": [
            "      59/60       1.4G    0.08403         14        640: 100%|██████████| 18/18 [00:10<00:00,  1.68it/s]\n",
            "               classes   top1_acc   top5_acc: 100%|██████████| 2/2 [00:00<00:00, 23.31it/s]"
          ]
        },
        {
          "name": "stdout",
          "output_type": "stream",
          "text": [
            "                   all      0.805          1\n"
          ]
        },
        {
          "name": "stderr",
          "output_type": "stream",
          "text": [
            "\n"
          ]
        },
        {
          "name": "stdout",
          "output_type": "stream",
          "text": [
            "\n",
            "      Epoch    GPU_mem       loss  Instances       Size\n"
          ]
        },
        {
          "name": "stderr",
          "output_type": "stream",
          "text": [
            "      60/60       1.4G    0.08057         14        640: 100%|██████████| 18/18 [00:11<00:00,  1.59it/s]\n",
            "               classes   top1_acc   top5_acc: 100%|██████████| 2/2 [00:00<00:00, 17.54it/s]"
          ]
        },
        {
          "name": "stdout",
          "output_type": "stream",
          "text": [
            "                   all      0.805          1\n"
          ]
        },
        {
          "name": "stderr",
          "output_type": "stream",
          "text": [
            "\n"
          ]
        },
        {
          "name": "stdout",
          "output_type": "stream",
          "text": [
            "\n",
            "60 epochs completed in 0.199 hours.\n",
            "Optimizer stripped from runs/classify/train/weights/last.pt, 3.0MB\n",
            "Optimizer stripped from runs/classify/train/weights/best.pt, 3.0MB\n",
            "\n",
            "Validating runs/classify/train/weights/best.pt...\n",
            "Ultralytics YOLOv8.1.27 🚀 Python-3.10.12 torch-2.1.0+cu121 CUDA:0 (Tesla T4, 15102MiB)\n",
            "YOLOv8n-cls summary (fused): 73 layers, 1441285 parameters, 0 gradients, 3.3 GFLOPs\n",
            "WARNING ⚠️ Dataset 'split=val' not found, using 'split=test' instead.\n",
            "\u001b[34m\u001b[1mtrain:\u001b[0m /content/drive/.shortcut-targets-by-id/17b2KT8bP8SPxGp7QXOXdfZWjsrxHV19h/CV/Classification_Data/train... found 286 images in 5 classes ✅ \n",
            "\u001b[34m\u001b[1mval:\u001b[0m None...\n",
            "\u001b[34m\u001b[1mtest:\u001b[0m /content/drive/.shortcut-targets-by-id/17b2KT8bP8SPxGp7QXOXdfZWjsrxHV19h/CV/Classification_Data/test... found 41 images in 5 classes ✅ \n"
          ]
        },
        {
          "name": "stderr",
          "output_type": "stream",
          "text": [
            "               classes   top1_acc   top5_acc: 100%|██████████| 2/2 [00:00<00:00, 14.68it/s]\n"
          ]
        },
        {
          "name": "stdout",
          "output_type": "stream",
          "text": [
            "                   all      0.829          1\n",
            "Speed: 0.6ms preprocess, 1.5ms inference, 0.0ms loss, 0.0ms postprocess per image\n",
            "Results saved to \u001b[1mruns/classify/train\u001b[0m\n",
            "Results saved to \u001b[1mruns/classify/train\u001b[0m\n"
          ]
        },
        {
          "data": {
            "text/plain": [
              "ultralytics.utils.metrics.ClassifyMetrics object with attributes:\n",
              "\n",
              "confusion_matrix: <ultralytics.utils.metrics.ConfusionMatrix object at 0x7c2abff595a0>\n",
              "curves: []\n",
              "curves_results: []\n",
              "fitness: 0.914634108543396\n",
              "keys: ['metrics/accuracy_top1', 'metrics/accuracy_top5']\n",
              "results_dict: {'metrics/accuracy_top1': 0.8292682766914368, 'metrics/accuracy_top5': 0.9999999403953552, 'fitness': 0.914634108543396}\n",
              "save_dir: PosixPath('runs/classify/train')\n",
              "speed: {'preprocess': 0.6421600900045256, 'inference': 1.4935993566745667, 'loss': 0.0007385160864853277, 'postprocess': 0.0006571048643530869}\n",
              "task: 'classify'\n",
              "top1: 0.8292682766914368\n",
              "top5: 0.9999999403953552"
            ]
          },
          "execution_count": 8,
          "metadata": {},
          "output_type": "execute_result"
        }
      ],
      "source": [
        "model = YOLO(\"yolov8n-cls.pt\")\n",
        "model.train(\n",
        "    data=\"/content/drive/MyDrive/CV/Classification_Data\",\n",
        "    epochs=60,\n",
        "    patience=20,  # Increased patience for more tolerance on validation improvement\n",
        "    batch=16,  # Adjusted for better GPU utilization\n",
        "    lr0=0.001,  # Adjusted for a more aggressive learning rate initially\n",
        "    imgsz=640,  # Maintained as it's a good balance between performance and speed\n",
        "    optimizer=\"auto\",  # Letting the system choose the best optimizer\n",
        "    weight_decay=0.0005,  # L2 regularization to prevent overfitting\n",
        "    amp=True,  # Enable automatic mixed precision for faster training\n",
        "    rect=False,  # Considering diverse vehicle orientations\n",
        "    cos_lr=True,  # Use cosine learning rate scheduler for better convergence\n",
        ")"
      ]
    },
    {
      "cell_type": "markdown",
      "metadata": {
        "id": "nmaNQHDFMJqO"
      },
      "source": [
        "## Evaluation Metrics\n"
      ]
    },
    {
      "cell_type": "code",
      "execution_count": 18,
      "metadata": {
        "colab": {
          "base_uri": "https://localhost:8080/"
        },
        "id": "KXJ54eic7Lrf",
        "outputId": "da64a47c-495a-4724-bd09-8d2253d67377"
      },
      "outputs": [
        {
          "name": "stdout",
          "output_type": "stream",
          "text": [
            "Ultralytics YOLOv8.1.27 🚀 Python-3.10.12 torch-2.1.0+cu121 CUDA:0 (Tesla T4, 15102MiB)\n",
            "YOLOv8n-cls summary (fused): 73 layers, 1441285 parameters, 0 gradients, 3.3 GFLOPs\n",
            "\u001b[34m\u001b[1mtrain:\u001b[0m /content/drive/.shortcut-targets-by-id/17b2KT8bP8SPxGp7QXOXdfZWjsrxHV19h/CV/Classification_Data/train... found 286 images in 5 classes ✅ \n",
            "\u001b[34m\u001b[1mval:\u001b[0m /content/drive/.shortcut-targets-by-id/17b2KT8bP8SPxGp7QXOXdfZWjsrxHV19h/CV/Classification_Data/val... found 82 images in 5 classes ✅ \n",
            "\u001b[34m\u001b[1mtest:\u001b[0m /content/drive/.shortcut-targets-by-id/17b2KT8bP8SPxGp7QXOXdfZWjsrxHV19h/CV/Classification_Data/test... found 41 images in 5 classes ✅ \n"
          ]
        },
        {
          "name": "stderr",
          "output_type": "stream",
          "text": [
            "\u001b[34m\u001b[1mval: \u001b[0mScanning /content/drive/.shortcut-targets-by-id/17b2KT8bP8SPxGp7QXOXdfZWjsrxHV19h/CV/Classification_Data/val... 82 images, 0 corrupt: 100%|██████████| 82/82 [00:25<00:00,  3.16it/s]"
          ]
        },
        {
          "name": "stdout",
          "output_type": "stream",
          "text": [
            "\u001b[34m\u001b[1mval: \u001b[0mNew cache created: /content/drive/.shortcut-targets-by-id/17b2KT8bP8SPxGp7QXOXdfZWjsrxHV19h/CV/Classification_Data/val.cache\n"
          ]
        },
        {
          "name": "stderr",
          "output_type": "stream",
          "text": [
            "\n",
            "               classes   top1_acc   top5_acc: 100%|██████████| 6/6 [00:03<00:00,  1.58it/s]\n"
          ]
        },
        {
          "name": "stdout",
          "output_type": "stream",
          "text": [
            "                   all       0.72          1\n",
            "Speed: 0.5ms preprocess, 4.8ms inference, 0.0ms loss, 0.0ms postprocess per image\n",
            "Results saved to \u001b[1mruns/classify/val7\u001b[0m\n"
          ]
        },
        {
          "data": {
            "text/plain": [
              "0.9999999403953552"
            ]
          },
          "execution_count": 18,
          "metadata": {},
          "output_type": "execute_result"
        }
      ],
      "source": [
        "model = YOLO(\"/content/drive/MyDrive/CV/runs/classify/train/weights/best.pt\")\n",
        "\n",
        "metrics = model.val()\n",
        "metrics.top1\n",
        "metrics.top5"
      ]
    },
    {
      "cell_type": "markdown",
      "metadata": {
        "id": "hMKiGtztSXwD"
      },
      "source": [
        "[This](https://docs.ultralytics.com/guides/yolo-performance-metrics/) is a very good detailed explanation of different perfromance metrics in YOLO.\n"
      ]
    },
    {
      "cell_type": "markdown",
      "metadata": {
        "id": "f1DiEK1fcziv"
      },
      "source": [
        "##Prediction\n"
      ]
    },
    {
      "cell_type": "code",
      "execution_count": 20,
      "metadata": {
        "colab": {
          "base_uri": "https://localhost:8080/"
        },
        "id": "5GKWUfhvJD4p",
        "outputId": "f770be17-91ee-47ad-fdb0-b41f652c4d2a"
      },
      "outputs": [
        {
          "name": "stdout",
          "output_type": "stream",
          "text": [
            "\n",
            "image 1/37 /content/drive/MyDrive/CV/Predict_Images/04932e6971_jpg.rf.a5699bff5abb01e46587e3aaf6a3008b.jpg: 640x640 SUVs 0.59, Cars 0.40, Crossovers 0.00, Trucks 0.00, MiniVan 0.00, 3.9ms\n",
            "image 2/37 /content/drive/MyDrive/CV/Predict_Images/06fe36d99f_jpg.rf.3ca2337cfd6c53f8b0658660a1eea199.jpg: 640x640 Cars 1.00, SUVs 0.00, Trucks 0.00, Crossovers 0.00, MiniVan 0.00, 3.7ms\n",
            "image 3/37 /content/drive/MyDrive/CV/Predict_Images/210716140154-chrysler-pacifica-2021_jpg.rf.f12e81c862931c43f2516a5ba9e195c7.jpg: 640x640 Trucks 0.48, SUVs 0.37, MiniVan 0.09, Cars 0.05, Crossovers 0.01, 4.0ms\n",
            "image 4/37 /content/drive/MyDrive/CV/Predict_Images/4123415d8d_jpg.rf.04a459d42669f15e9204a6a0d0fa9d09.jpg: 640x640 SUVs 0.82, Trucks 0.09, Cars 0.04, MiniVan 0.03, Crossovers 0.02, 4.0ms\n",
            "image 5/37 /content/drive/MyDrive/CV/Predict_Images/4993775ce0_jpg.rf.6f66b147084954462f3ce7107ae60e27.jpg: 640x640 Cars 1.00, SUVs 0.00, Crossovers 0.00, MiniVan 0.00, Trucks 0.00, 6.6ms\n",
            "image 6/37 /content/drive/MyDrive/CV/Predict_Images/5495553d43_jpg.rf.e8e9091fd85f34e3d8be80c671c04cfc.jpg: 640x640 SUVs 1.00, Cars 0.00, Crossovers 0.00, MiniVan 0.00, Trucks 0.00, 8.3ms\n",
            "image 7/37 /content/drive/MyDrive/CV/Predict_Images/5549d16fee_jpg.rf.f8ccfc7c38b874ad372a98fef2d5c1b6.jpg: 640x640 Cars 1.00, MiniVan 0.00, Trucks 0.00, SUVs 0.00, Crossovers 0.00, 3.7ms\n",
            "image 8/37 /content/drive/MyDrive/CV/Predict_Images/56659c8c6b_jpg.rf.ae99dfa0bc02e37aabfb70663e246448.jpg: 640x640 SUVs 0.99, Crossovers 0.01, Trucks 0.00, MiniVan 0.00, Cars 0.00, 4.0ms\n",
            "image 9/37 /content/drive/MyDrive/CV/Predict_Images/5ac9b5b680_jpg.rf.06007dba2c8f682d98d26e9cbc365105.jpg: 640x640 Cars 0.97, Crossovers 0.03, SUVs 0.00, MiniVan 0.00, Trucks 0.00, 3.7ms\n",
            "image 10/37 /content/drive/MyDrive/CV/Predict_Images/5eecdc15b1_jpg.rf.b751e034144a9bec8e95090e4c1a7274.jpg: 640x640 SUVs 1.00, Cars 0.00, MiniVan 0.00, Crossovers 0.00, Trucks 0.00, 3.7ms\n",
            "image 11/37 /content/drive/MyDrive/CV/Predict_Images/60646109fd_jpg.rf.ae25eb75c0e2d62e830c5f8e65f75151.jpg: 640x640 Cars 0.99, Crossovers 0.01, MiniVan 0.00, SUVs 0.00, Trucks 0.00, 4.1ms\n",
            "image 12/37 /content/drive/MyDrive/CV/Predict_Images/62d2b30f05_jpg.rf.2ea8a9c77fef71ddd5f0cc21a1b85ba8.jpg: 640x640 SUVs 0.99, Crossovers 0.01, MiniVan 0.00, Cars 0.00, Trucks 0.00, 3.9ms\n",
            "image 13/37 /content/drive/MyDrive/CV/Predict_Images/6ceccd0c3c_jpg.rf.efe61c89396f39cad5b8ddbca5bd856d.jpg: 640x640 SUVs 0.90, Crossovers 0.09, Cars 0.00, MiniVan 0.00, Trucks 0.00, 4.1ms\n",
            "image 14/37 /content/drive/MyDrive/CV/Predict_Images/7079b6fd9c_jpg.rf.5b6ce5ede938e69275e78213219b0cd4.jpg: 640x640 Cars 0.98, SUVs 0.02, Crossovers 0.00, MiniVan 0.00, Trucks 0.00, 4.1ms\n",
            "image 15/37 /content/drive/MyDrive/CV/Predict_Images/86339911d5_jpg.rf.ffd5617e474e6bb8b8a5ea12164fab00.jpg: 640x640 Trucks 0.66, SUVs 0.33, Crossovers 0.02, MiniVan 0.00, Cars 0.00, 3.5ms\n",
            "image 16/37 /content/drive/MyDrive/CV/Predict_Images/878c29032b_jpg.rf.698327df230e269f6290b9993f680aee.jpg: 640x640 SUVs 0.82, Cars 0.17, Crossovers 0.00, MiniVan 0.00, Trucks 0.00, 5.2ms\n",
            "image 17/37 /content/drive/MyDrive/CV/Predict_Images/8b5c48e9da_jpg.rf.f13843fa4d4f9a132eaddae3a1678f3f.jpg: 640x640 Cars 1.00, SUVs 0.00, MiniVan 0.00, Trucks 0.00, Crossovers 0.00, 8.1ms\n",
            "image 18/37 /content/drive/MyDrive/CV/Predict_Images/8c2966adc7_jpg.rf.4ccf4a080eb580fd3e5f65d63dc6ec03.jpg: 640x640 SUVs 0.78, Trucks 0.22, MiniVan 0.00, Cars 0.00, Crossovers 0.00, 4.9ms\n",
            "image 19/37 /content/drive/MyDrive/CV/Predict_Images/8c344f8538_jpg.rf.c801475fa2065db434f066570a0f9968.jpg: 640x640 Cars 0.97, SUVs 0.02, MiniVan 0.00, Crossovers 0.00, Trucks 0.00, 4.8ms\n",
            "image 20/37 /content/drive/MyDrive/CV/Predict_Images/956679d96c_jpg.rf.2111446078c04587d37ad00aba0fed58.jpg: 640x640 Cars 0.58, Crossovers 0.29, SUVs 0.13, Trucks 0.00, MiniVan 0.00, 6.7ms\n",
            "image 21/37 /content/drive/MyDrive/CV/Predict_Images/9784c8b879_jpg.rf.238e14fe333fe233ed963e705f001d34.jpg: 640x640 Cars 1.00, Crossovers 0.00, SUVs 0.00, MiniVan 0.00, Trucks 0.00, 4.1ms\n",
            "image 22/37 /content/drive/MyDrive/CV/Predict_Images/bd019b81aa_jpg.rf.e32e08dde80bad8bdefe0c232d39ef0a.jpg: 640x640 SUVs 1.00, Cars 0.00, Crossovers 0.00, MiniVan 0.00, Trucks 0.00, 4.6ms\n",
            "image 23/37 /content/drive/MyDrive/CV/Predict_Images/bd3396f08b_jpg.rf.4e095ece67dbad1e321db2a96450d266.jpg: 640x640 SUVs 0.68, Cars 0.20, MiniVan 0.04, Trucks 0.04, Crossovers 0.04, 3.6ms\n",
            "image 24/37 /content/drive/MyDrive/CV/Predict_Images/be5b8a2389_jpg.rf.4a90345b5d90b11ae0b51fcb0bd882c5.jpg: 640x640 Cars 0.67, Trucks 0.26, SUVs 0.04, Crossovers 0.01, MiniVan 0.01, 3.9ms\n",
            "image 25/37 /content/drive/MyDrive/CV/Predict_Images/befb7f1153_jpg.rf.226ee8bab6b33cee8e15c06861ad8789.jpg: 640x640 Cars 0.69, Crossovers 0.18, SUVs 0.13, MiniVan 0.00, Trucks 0.00, 3.9ms\n",
            "image 26/37 /content/drive/MyDrive/CV/Predict_Images/bf60c339f2_jpg.rf.f335e3ce279334fa27a57bcad8b82f09.jpg: 640x640 Cars 1.00, Crossovers 0.00, SUVs 0.00, MiniVan 0.00, Trucks 0.00, 3.5ms\n",
            "image 27/37 /content/drive/MyDrive/CV/Predict_Images/c27eb878f2_jpg.rf.2c6bc265a9c372dd52510825e71408c0.jpg: 640x640 Trucks 0.85, SUVs 0.11, Cars 0.04, Crossovers 0.00, MiniVan 0.00, 4.4ms\n",
            "image 28/37 /content/drive/MyDrive/CV/Predict_Images/cb3735d703_jpg.rf.3318f36423236249a59f447dbaa2a096.jpg: 640x640 SUVs 0.80, Crossovers 0.11, Cars 0.09, MiniVan 0.00, Trucks 0.00, 6.4ms\n",
            "image 29/37 /content/drive/MyDrive/CV/Predict_Images/d41b611e53_jpg.rf.44d874400182235649e0752a1910b704.jpg: 640x640 Cars 1.00, SUVs 0.00, MiniVan 0.00, Trucks 0.00, Crossovers 0.00, 3.6ms\n",
            "image 30/37 /content/drive/MyDrive/CV/Predict_Images/d923bbc09b_jpg.rf.885e5efc6707bad322fb04ec609daee1.jpg: 640x640 SUVs 0.86, Cars 0.10, Trucks 0.02, Crossovers 0.02, MiniVan 0.00, 5.0ms\n",
            "image 31/37 /content/drive/MyDrive/CV/Predict_Images/d993169a3e_jpg.rf.aec95125cecd333ac304290df4b32b76.jpg: 640x640 SUVs 0.59, Crossovers 0.40, Cars 0.00, MiniVan 0.00, Trucks 0.00, 3.9ms\n",
            "image 32/37 /content/drive/MyDrive/CV/Predict_Images/da55d05199_jpg.rf.8caea09c5f0f15d928be3efb6f6066af.jpg: 640x640 Crossovers 0.69, SUVs 0.16, Cars 0.15, MiniVan 0.00, Trucks 0.00, 3.6ms\n",
            "image 33/37 /content/drive/MyDrive/CV/Predict_Images/dab92cad87_jpg.rf.23a32babcbb7a3a420fa10df6d2d834b.jpg: 640x640 SUVs 0.99, Cars 0.01, Crossovers 0.00, MiniVan 0.00, Trucks 0.00, 3.6ms\n",
            "image 34/37 /content/drive/MyDrive/CV/Predict_Images/e4d80f01d3_jpg.rf.2c4742fc53b246a0802142af28df2301.jpg: 640x640 Cars 0.80, Crossovers 0.18, SUVs 0.02, MiniVan 0.01, Trucks 0.00, 3.6ms\n",
            "image 35/37 /content/drive/MyDrive/CV/Predict_Images/ec9aae013b_jpg.rf.d747a89440baf6c5a3b3706863056ed4.jpg: 640x640 SUVs 0.67, Cars 0.30, Trucks 0.02, MiniVan 0.00, Crossovers 0.00, 4.1ms\n",
            "image 36/37 /content/drive/MyDrive/CV/Predict_Images/f20634c0a9_jpg.rf.3ef3d41bd8432b2655c1e40cbc964b82.jpg: 640x640 SUVs 0.89, Cars 0.06, Crossovers 0.04, MiniVan 0.01, Trucks 0.00, 3.8ms\n",
            "image 37/37 /content/drive/MyDrive/CV/Predict_Images/fca5f6b425_jpg.rf.df42bbff56c9573ff415d4a9c6bfa2b1.jpg: 640x640 Cars 1.00, SUVs 0.00, Crossovers 0.00, Trucks 0.00, MiniVan 0.00, 3.6ms\n",
            "Speed: 20.1ms preprocess, 4.4ms inference, 0.1ms postprocess per image at shape (1, 3, 640, 640)\n"
          ]
        }
      ],
      "source": [
        "model = YOLO(\n",
        "    \"/content/drive/MyDrive/CV/runs/classify/train/weights/best.pt\"\n",
        ")  # load a custom model\n",
        "\n",
        "\n",
        "\n",
        "results = model(\"/content/drive/MyDrive/CV/Predict_Images\")"
      ]
    }
  ],
  "metadata": {
    "accelerator": "GPU",
    "colab": {
      "gpuType": "T4",
      "provenance": []
    },
    "kernelspec": {
      "display_name": "Python 3",
      "name": "python3"
    },
    "language_info": {
      "codemirror_mode": {
        "name": "ipython",
        "version": 3
      },
      "file_extension": ".py",
      "mimetype": "text/x-python",
      "name": "python",
      "nbconvert_exporter": "python",
      "pygments_lexer": "ipython3",
      "version": "3.9.6"
    }
  },
  "nbformat": 4,
  "nbformat_minor": 0
}
